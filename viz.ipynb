{
 "cells": [
  {
   "cell_type": "markdown",
   "metadata": {},
   "source": [
    "## Testing model for bias\n",
    "Running test on two decks with randomly selected cards from the same Minion bucket.\n",
    "Outcome should be 50/50 win/loss."
   ]
  },
  {
   "cell_type": "code",
   "execution_count": 1,
   "metadata": {},
   "outputs": [
    {
     "name": "stdout",
     "output_type": "stream",
     "text": [
      "(20, 3)\n"
     ]
    },
    {
     "data": {
      "text/html": [
       "<div>\n",
       "<style scoped>\n",
       "    .dataframe tbody tr th:only-of-type {\n",
       "        vertical-align: middle;\n",
       "    }\n",
       "\n",
       "    .dataframe tbody tr th {\n",
       "        vertical-align: top;\n",
       "    }\n",
       "\n",
       "    .dataframe thead th {\n",
       "        text-align: right;\n",
       "    }\n",
       "</style>\n",
       "<table border=\"1\" class=\"dataframe\">\n",
       "  <thead>\n",
       "    <tr style=\"text-align: right;\">\n",
       "      <th></th>\n",
       "      <th>generation</th>\n",
       "      <th>deck_uid</th>\n",
       "      <th>win_rate</th>\n",
       "    </tr>\n",
       "  </thead>\n",
       "  <tbody>\n",
       "    <tr>\n",
       "      <th>0</th>\n",
       "      <td>0</td>\n",
       "      <td>kknmoknikklikjonknlkjnilnoikon</td>\n",
       "      <td>5</td>\n",
       "    </tr>\n",
       "    <tr>\n",
       "      <th>1</th>\n",
       "      <td>0</td>\n",
       "      <td>jojnmonojnnnnkiiljilnnomollnli</td>\n",
       "      <td>6</td>\n",
       "    </tr>\n",
       "    <tr>\n",
       "      <th>2</th>\n",
       "      <td>0</td>\n",
       "      <td>nnninmkjjillnmmlkkoknknilkmnno</td>\n",
       "      <td>5</td>\n",
       "    </tr>\n",
       "    <tr>\n",
       "      <th>3</th>\n",
       "      <td>0</td>\n",
       "      <td>nmkionklnmonkolnjiojolkollilni</td>\n",
       "      <td>3</td>\n",
       "    </tr>\n",
       "    <tr>\n",
       "      <th>4</th>\n",
       "      <td>0</td>\n",
       "      <td>ojjkkimklninjnonmimnnljjnommil</td>\n",
       "      <td>4</td>\n",
       "    </tr>\n",
       "  </tbody>\n",
       "</table>\n",
       "</div>"
      ],
      "text/plain": [
       "   generation                        deck_uid  win_rate\n",
       "0           0  kknmoknikklikjonknlkjnilnoikon         5\n",
       "1           0  jojnmonojnnnnkiiljilnnomollnli         6\n",
       "2           0  nnninmkjjillnmmlkkoknknilkmnno         5\n",
       "3           0  nmkionklnmonkolnjiojolkollilni         3\n",
       "4           0  ojjkkimklninjnonmimnnljjnommil         4"
      ]
     },
     "execution_count": 1,
     "metadata": {},
     "output_type": "execute_result"
    }
   ],
   "source": [
    "import os\n",
    "import pandas as pd\n",
    "df = pd.read_csv('data/results/mean_should_be_5.csv')\n",
    "print(df.shape)\n",
    "df.head()"
   ]
  },
  {
   "cell_type": "code",
   "execution_count": 2,
   "metadata": {},
   "outputs": [
    {
     "data": {
      "text/plain": [
       "5.2"
      ]
     },
     "execution_count": 2,
     "metadata": {},
     "output_type": "execute_result"
    }
   ],
   "source": [
    "df[\"win_rate\"].mean()"
   ]
  },
  {
   "cell_type": "code",
   "execution_count": 3,
   "metadata": {},
   "outputs": [
    {
     "data": {
      "image/png": "[encoded data removed]",
      "text/plain": [
       "<Figure size 1500x500 with 1 Axes>"
      ]
     },
     "metadata": {},
     "output_type": "display_data"
    }
   ],
   "source": [
    "import pandas as pd\n",
    "import matplotlib.pyplot as plt\n",
    "plt.style.use('dark_background')\n",
    "\n",
    "df = df.sort_values(by=\"win_rate\")\n",
    "grouped_df = df.groupby('win_rate').size().reset_index(name='count')\n",
    "\n",
    "plt.figure(figsize=(15, 5))\n",
    "bars = plt.bar(grouped_df['win_rate'], grouped_df['count'])\n",
    "\n",
    "for bar, count in zip(bars, grouped_df['count']):\n",
    "    plt.text(bar.get_x() + bar.get_width() / 2, bar.get_height(), count, ha='center', va='bottom')\n",
    "\n",
    "plt.xlabel('Win Rate (Out of 10 games / deck_string)')\n",
    "plt.ylabel('Count')\n",
    "plt.title('Wins for each unique deck_string')\n",
    "plt.show()"
   ]
  },
  {
   "cell_type": "code",
   "execution_count": 4,
   "metadata": {},
   "outputs": [
    {
     "data": {
      "text/plain": [
       "['ikkloonmnnnlnninimmolomononllk',\n",
       " 'limjnkknmjkkolkimjijjmkmijliln',\n",
       " 'jlonioioijmnmoiomlnnnlnlmkojjo',\n",
       " 'noookmjnnjomoniiklonmijmjjnnjm']"
      ]
     },
     "execution_count": 4,
     "metadata": {},
     "output_type": "execute_result"
    }
   ],
   "source": [
    "deck_uid_win_rate_5 = df[df['win_rate'] >= 7]['deck_uid'].tolist()\n",
    "\n",
    "deck_uid_win_rate_5"
   ]
  },
  {
   "cell_type": "markdown",
   "metadata": {},
   "source": [
    "## Top 3 cards - first iteration\n",
    "\n",
    "These top 3 cards were found in all top performing decks (5 wins / 20 games)"
   ]
  },
  {
   "cell_type": "code",
   "execution_count": 5,
   "metadata": {},
   "outputs": [
    {
     "name": "stdout",
     "output_type": "stream",
     "text": [
      "Goblin Necromancer in 20.83% of top decks.\n",
      "[2/2] Mana: 2\n",
      "Deathrattle: Summon a 2/2 Goblin.\n",
      "\n",
      "Goblin Wingman in 16.67% of top decks.\n",
      "[3/2] Mana: 3\n",
      "Battlecry: Add a random Goblin to your hand.\n",
      "\n",
      "Goblin Gambler in 15.00% of top decks.\n",
      "[1/1] Mana: 1\n",
      "Battlecry: Draw a card.\n",
      "\n"
     ]
    }
   ],
   "source": [
    "from collections import Counter\n",
    "from card_wars.deck import DeckSerializer\n",
    "from card_wars.import_cards import find_card\n",
    "\n",
    "d = DeckSerializer()\n",
    "\n",
    "all_strings = ''.join(deck_uid_win_rate_5)\n",
    "char_count = Counter(all_strings)\n",
    "most_common_chars = char_count.most_common(3)\n",
    "\n",
    "for char, count in most_common_chars:\n",
    "    percentage = (count / len(all_strings)) * 100\n",
    "    card_id = (d.deserialize(short_string=char))\n",
    "    card = find_card(card_id[0])\n",
    "\n",
    "    print(f\"{card.name} in {percentage:.2f}% of top decks.\")\n",
    "    print(f\"{card}\\n\")"
   ]
  },
  {
   "cell_type": "markdown",
   "metadata": {},
   "source": [
    "## Worst performing cards"
   ]
  },
  {
   "cell_type": "code",
   "execution_count": 6,
   "metadata": {},
   "outputs": [
    {
     "data": {
      "text/plain": [
       "['nmkionklnmonkolnjiojolkollilni',\n",
       " 'mkljjnnlnnjkimionklminimnnmkjl',\n",
       " 'llkknmojknmnmknoiolkknnjnimmko',\n",
       " 'ojjimmnnoojjjojmmjillollnoikmi',\n",
       " 'nniojljjnljjllojlnjlonnnkkjmln']"
      ]
     },
     "execution_count": 6,
     "metadata": {},
     "output_type": "execute_result"
    }
   ],
   "source": [
    "worst = df[df['win_rate'] <= 3]['deck_uid'].tolist()\n",
    "\n",
    "worst"
   ]
  },
  {
   "cell_type": "code",
   "execution_count": 7,
   "metadata": {},
   "outputs": [
    {
     "name": "stdout",
     "output_type": "stream",
     "text": [
      "Goblin Necromancer in 21.33% of bottom decks.\n",
      "[2/2] Mana: 2\n",
      "Deathrattle: Summon a 2/2 Goblin.\n",
      "\n",
      "Prince Gobb in 16.00% of bottom decks.\n",
      "[5/5] Mana: 5\n",
      "Battlecry: Give all friendly Goblin [+2/+2].\n",
      "\n",
      "Bobblin The Goblin in 15.33% of bottom decks.\n",
      "[4/3] Mana: 3\n",
      "\n",
      "\n"
     ]
    }
   ],
   "source": [
    "d = DeckSerializer()\n",
    "\n",
    "all_strings = ''.join(worst)\n",
    "char_count = Counter(all_strings)\n",
    "most_common_chars = char_count.most_common(3)\n",
    "\n",
    "for char, count in most_common_chars:\n",
    "    percentage = (count / len(all_strings)) * 100\n",
    "    card_id = (d.deserialize(short_string=char))\n",
    "    card = find_card(card_id[0])\n",
    "\n",
    "    print(f\"{card.name} in {percentage:.2f}% of bottom decks.\")\n",
    "    print(f\"{card}\\n\")"
   ]
  },
  {
   "cell_type": "code",
   "execution_count": 8,
   "metadata": {},
   "outputs": [
    {
     "name": "stdout",
     "output_type": "stream",
     "text": [
      "(420, 3)\n"
     ]
    },
    {
     "data": {
      "text/html": [
       "<div>\n",
       "<style scoped>\n",
       "    .dataframe tbody tr th:only-of-type {\n",
       "        vertical-align: middle;\n",
       "    }\n",
       "\n",
       "    .dataframe tbody tr th {\n",
       "        vertical-align: top;\n",
       "    }\n",
       "\n",
       "    .dataframe thead th {\n",
       "        text-align: right;\n",
       "    }\n",
       "</style>\n",
       "<table border=\"1\" class=\"dataframe\">\n",
       "  <thead>\n",
       "    <tr style=\"text-align: right;\">\n",
       "      <th></th>\n",
       "      <th>generation</th>\n",
       "      <th>deck_uid</th>\n",
       "      <th>win_rate</th>\n",
       "    </tr>\n",
       "  </thead>\n",
       "  <tbody>\n",
       "    <tr>\n",
       "      <th>0</th>\n",
       "      <td>0</td>\n",
       "      <td>cbtbndrqotmrcpsimghsauuktjrqmo</td>\n",
       "      <td>1</td>\n",
       "    </tr>\n",
       "    <tr>\n",
       "      <th>1</th>\n",
       "      <td>0</td>\n",
       "      <td>fdkhtbmgjeannfqubmhareujijifmi</td>\n",
       "      <td>3</td>\n",
       "    </tr>\n",
       "    <tr>\n",
       "      <th>2</th>\n",
       "      <td>0</td>\n",
       "      <td>kminhsqbhohqhetngmuknitcdessdd</td>\n",
       "      <td>2</td>\n",
       "    </tr>\n",
       "    <tr>\n",
       "      <th>3</th>\n",
       "      <td>0</td>\n",
       "      <td>jeaomhgrojbdggsggnjmidkprqgrkc</td>\n",
       "      <td>1</td>\n",
       "    </tr>\n",
       "    <tr>\n",
       "      <th>4</th>\n",
       "      <td>0</td>\n",
       "      <td>udctfpehlbbpthpkuooppncubokhku</td>\n",
       "      <td>1</td>\n",
       "    </tr>\n",
       "  </tbody>\n",
       "</table>\n",
       "</div>"
      ],
      "text/plain": [
       "   generation                        deck_uid  win_rate\n",
       "0           0  cbtbndrqotmrcpsimghsauuktjrqmo         1\n",
       "1           0  fdkhtbmgjeannfqubmhareujijifmi         3\n",
       "2           0  kminhsqbhohqhetngmuknitcdessdd         2\n",
       "3           0  jeaomhgrojbdggsggnjmidkprqgrkc         1\n",
       "4           0  udctfpehlbbpthpkuooppncubokhku         1"
      ]
     },
     "execution_count": 8,
     "metadata": {},
     "output_type": "execute_result"
    }
   ],
   "source": [
    "import os\n",
    "import pandas as pd\n",
    "df = pd.read_csv('data/results/goblin_vs_random.csv')\n",
    "print(df.shape)\n",
    "df.head()"
   ]
  },
  {
   "cell_type": "code",
   "execution_count": 9,
   "metadata": {},
   "outputs": [
    {
     "data": {
      "text/plain": [
       "1.588095238095238"
      ]
     },
     "execution_count": 9,
     "metadata": {},
     "output_type": "execute_result"
    }
   ],
   "source": [
    "df[\"win_rate\"].mean() # This should be much lower"
   ]
  },
  {
   "cell_type": "code",
   "execution_count": 10,
   "metadata": {},
   "outputs": [
    {
     "data": {
      "image/png": "[encoded data removed]",
      "text/plain": [
       "<Figure size 1500x500 with 1 Axes>"
      ]
     },
     "metadata": {},
     "output_type": "display_data"
    }
   ],
   "source": [
    "df = df.sort_values(by=\"win_rate\")\n",
    "grouped_df = df.groupby('win_rate').size().reset_index(name='count')\n",
    "\n",
    "plt.figure(figsize=(15, 5))\n",
    "bars = plt.bar(grouped_df['win_rate'], grouped_df['count'])\n",
    "\n",
    "for bar, count in zip(bars, grouped_df['count']):\n",
    "    plt.text(bar.get_x() + bar.get_width() / 2, bar.get_height(), count, ha='center', va='bottom')\n",
    "\n",
    "plt.xlabel('Win Rate (Out of 10 games / deck_string)')\n",
    "plt.ylabel('Count')\n",
    "plt.title('Wins for each unique deck_string')\n",
    "plt.show()"
   ]
  },
  {
   "cell_type": "markdown",
   "metadata": {},
   "source": [
    "As exected, randomly selected decks performs much worse. But let's look at the deck that actually got 7 wins."
   ]
  },
  {
   "cell_type": "code",
   "execution_count": 11,
   "metadata": {},
   "outputs": [
    {
     "data": {
      "text/plain": [
       "['bcflgnsonktlcaeinkthbmtnaidmkp']"
      ]
     },
     "execution_count": 11,
     "metadata": {},
     "output_type": "execute_result"
    }
   ],
   "source": [
    "best_deck= df[df['win_rate'] >= 7]['deck_uid'].tolist()\n",
    "\n",
    "best_deck"
   ]
  },
  {
   "cell_type": "code",
   "execution_count": 12,
   "metadata": {},
   "outputs": [
    {
     "name": "stdout",
     "output_type": "stream",
     "text": [
      "Default Deck - [30/30] cards:\n",
      "  ('mdra000', 'Dragonite')\n",
      "  ('mdra001', 'Hatchling')\n",
      "  ('mgno002', 'Gnomish Support Agent')\n",
      "  ('mgob003', 'Prince Gobb')\n",
      "  ('mgno003', 'Gnome Rider')\n",
      "  ('mgob005', 'Goblin Necromancer')\n",
      "  ('snat000', 'Wild Growth')\n",
      "  ('mgob006', 'Goblin Wingman')\n",
      "  ('mgob005', 'Goblin Necromancer')\n",
      "  ('mgob002', 'Goblin Juggler')\n",
      "  ('w000000', 'War Axe')\n",
      "  ('mgob003', 'Prince Gobb')\n",
      "  ('mdra001', 'Hatchling')\n",
      "  ('mbea000', 'Lil Teddy')\n",
      "  ('mgno001', 'Grandma Gnome')\n",
      "  ('mgob000', 'Goblin')\n",
      "  ('mgob005', 'Goblin Necromancer')\n",
      "  ('mgob002', 'Goblin Juggler')\n",
      "  ('w000000', 'War Axe')\n",
      "  ('mgno004', 'Grand Gnome')\n",
      "  ('mdra000', 'Dragonite')\n",
      "  ('mgob004', 'Goblin Gambler')\n",
      "  ('w000000', 'War Axe')\n",
      "  ('mgob005', 'Goblin Necromancer')\n",
      "  ('mbea000', 'Lil Teddy')\n",
      "  ('mgob000', 'Goblin')\n",
      "  ('mgno000', 'Gnome')\n",
      "  ('mgob004', 'Goblin Gambler')\n",
      "  ('mgob002', 'Goblin Juggler')\n",
      "  ('mneu000', 'Praetorian Guard')\n",
      "\n"
     ]
    }
   ],
   "source": [
    "from card_wars.deck import get_custom_deck\n",
    "top_deck = get_custom_deck(d.deserialize(best_deck[0]))\n",
    "\n",
    "print(top_deck)"
   ]
  },
  {
   "cell_type": "code",
   "execution_count": 15,
   "metadata": {},
   "outputs": [
    {
     "data": {
      "image/png": "[encoded data removed]",
      "text/plain": [
       "<Figure size 1500x500 with 1 Axes>"
      ]
     },
     "metadata": {},
     "output_type": "display_data"
    }
   ],
   "source": [
    "from card_wars.deck import Deck\n",
    "top_deck.get_distribution()\n",
    "\n",
    "# Count occurrences of each unique number\n",
    "count_dict = {}\n",
    "for rate in top_deck.get_distribution():\n",
    "    count_dict[rate] = count_dict.get(rate, 0) + 1\n",
    "\n",
    "# Sort the dictionary by win rate\n",
    "sorted_counts = sorted(count_dict.items())\n",
    "\n",
    "# Extract the sorted win rates and counts\n",
    "win_rates_sorted, counts_sorted = zip(*sorted_counts)\n",
    "\n",
    "# Plotting the bar chart\n",
    "plt.figure(figsize=(15, 5))\n",
    "bars = plt.bar(win_rates_sorted, counts_sorted)\n",
    "\n",
    "for bar, count in zip(bars, counts_sorted):\n",
    "    plt.text(bar.get_x() + bar.get_width() / 2, bar.get_height(), count, ha='center', va='bottom')\n",
    "\n",
    "plt.xlabel('Mana Cost')\n",
    "plt.ylabel('Number of cards')\n",
    "plt.title('Cards mana distribution in top deck')\n",
    "plt.show()\n"
   ]
  }
 ],
 "metadata": {
  "kernelspec": {
   "display_name": "venv",
   "language": "python",
   "name": "python3"
  },
  "language_info": {
   "codemirror_mode": {
    "name": "ipython",
    "version": 3
   },
   "file_extension": ".py",
   "mimetype": "text/x-python",
   "name": "python",
   "nbconvert_exporter": "python",
   "pygments_lexer": "ipython3",
   "version": "3.10.10"
  }
 },
 "nbformat": 4,
 "nbformat_minor": 2
}
