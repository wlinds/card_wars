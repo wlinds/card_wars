{
 "cells": [
  {
   "cell_type": "markdown",
   "metadata": {},
   "source": [
    "## Testing model for bias\n",
    "Running test on two decks with randomly selected cards from the same Goblin Minion bucket.\n",
    "\n",
    "Outcome should be 50/50 win/loss."
   ]
  },
  {
   "cell_type": "code",
   "execution_count": 1,
   "metadata": {},
   "outputs": [
    {
     "name": "stdout",
     "output_type": "stream",
     "text": [
      "(20, 3)\n"
     ]
    },
    {
     "data": {
      "text/html": [
       "<div>\n",
       "<style scoped>\n",
       "    .dataframe tbody tr th:only-of-type {\n",
       "        vertical-align: middle;\n",
       "    }\n",
       "\n",
       "    .dataframe tbody tr th {\n",
       "        vertical-align: top;\n",
       "    }\n",
       "\n",
       "    .dataframe thead th {\n",
       "        text-align: right;\n",
       "    }\n",
       "</style>\n",
       "<table border=\"1\" class=\"dataframe\">\n",
       "  <thead>\n",
       "    <tr style=\"text-align: right;\">\n",
       "      <th></th>\n",
       "      <th>generation</th>\n",
       "      <th>deck_uid</th>\n",
       "      <th>win_rate</th>\n",
       "    </tr>\n",
       "  </thead>\n",
       "  <tbody>\n",
       "    <tr>\n",
       "      <th>0</th>\n",
       "      <td>0</td>\n",
       "      <td>kknmoknikklikjonknlkjnilnoikon</td>\n",
       "      <td>5</td>\n",
       "    </tr>\n",
       "    <tr>\n",
       "      <th>1</th>\n",
       "      <td>0</td>\n",
       "      <td>jojnmonojnnnnkiiljilnnomollnli</td>\n",
       "      <td>6</td>\n",
       "    </tr>\n",
       "    <tr>\n",
       "      <th>2</th>\n",
       "      <td>0</td>\n",
       "      <td>nnninmkjjillnmmlkkoknknilkmnno</td>\n",
       "      <td>5</td>\n",
       "    </tr>\n",
       "    <tr>\n",
       "      <th>3</th>\n",
       "      <td>0</td>\n",
       "      <td>nmkionklnmonkolnjiojolkollilni</td>\n",
       "      <td>3</td>\n",
       "    </tr>\n",
       "    <tr>\n",
       "      <th>4</th>\n",
       "      <td>0</td>\n",
       "      <td>ojjkkimklninjnonmimnnljjnommil</td>\n",
       "      <td>4</td>\n",
       "    </tr>\n",
       "  </tbody>\n",
       "</table>\n",
       "</div>"
      ],
      "text/plain": [
       "   generation                        deck_uid  win_rate\n",
       "0           0  kknmoknikklikjonknlkjnilnoikon         5\n",
       "1           0  jojnmonojnnnnkiiljilnnomollnli         6\n",
       "2           0  nnninmkjjillnmmlkkoknknilkmnno         5\n",
       "3           0  nmkionklnmonkolnjiojolkollilni         3\n",
       "4           0  ojjkkimklninjnonmimnnljjnommil         4"
      ]
     },
     "execution_count": 1,
     "metadata": {},
     "output_type": "execute_result"
    }
   ],
   "source": [
    "import os\n",
    "import pandas as pd\n",
    "import matplotlib.pyplot as plt\n",
    "plt.style.use('dark_background')\n",
    "\n",
    "df = pd.read_csv('data/results/mean_should_be_5.csv')\n",
    "print(df.shape)\n",
    "df.head()"
   ]
  },
  {
   "cell_type": "code",
   "execution_count": 2,
   "metadata": {},
   "outputs": [
    {
     "data": {
      "text/plain": [
       "5.2"
      ]
     },
     "execution_count": 2,
     "metadata": {},
     "output_type": "execute_result"
    }
   ],
   "source": [
    "df[\"win_rate\"].mean()"
   ]
  },
  {
   "cell_type": "code",
   "execution_count": 3,
   "metadata": {},
   "outputs": [
    {
     "data": {
      "image/png": "[encoded data removed]",
      "text/plain": [
       "<Figure size 1500x500 with 1 Axes>"
      ]
     },
     "metadata": {},
     "output_type": "display_data"
    }
   ],
   "source": [
    "df = df.sort_values(by=\"win_rate\")\n",
    "grouped_df = df.groupby('win_rate').size().reset_index(name='count')\n",
    "\n",
    "plt.figure(figsize=(15, 5))\n",
    "bars = plt.bar(grouped_df['win_rate'], grouped_df['count'])\n",
    "\n",
    "for bar, count in zip(bars, grouped_df['count']):\n",
    "    plt.text(bar.get_x() + bar.get_width() / 2, bar.get_height(), count, ha='center', va='bottom')\n",
    "\n",
    "plt.xlabel('Win Rate (Out of 10 games / deck_string)')\n",
    "plt.ylabel('Count')\n",
    "plt.title('Wins for each unique deck_string')\n",
    "plt.show()"
   ]
  },
  {
   "cell_type": "markdown",
   "metadata": {},
   "source": [
    "## Top 3 cards - first iteration\n",
    "\n",
    "These top 3 cards were found in all top performing decks (at least 5 wins / 10 games)"
   ]
  },
  {
   "cell_type": "code",
   "execution_count": 4,
   "metadata": {},
   "outputs": [],
   "source": [
    "deck_uid_win_rate_5 = df[df['win_rate'] >= 5]['deck_uid'].tolist()"
   ]
  },
  {
   "cell_type": "code",
   "execution_count": 5,
   "metadata": {},
   "outputs": [
    {
     "name": "stdout",
     "output_type": "stream",
     "text": [
      "Goblin Necromancer [2/2] Mana: 2\n",
      "Deathrattle: Summon a 2/2 Goblin.\n",
      "On average in 20.77% of top decks.\n",
      "\n",
      "Prince Gobb [5/5] Mana: 5\n",
      "Battlecry: Give all friendly Goblin [+2/+2].\n",
      "On average in 14.36% of top decks.\n",
      "\n",
      "Bobblin The Goblin [4/3] Mana: 3\n",
      "On average in 13.85% of top decks.\n",
      "\n"
     ]
    }
   ],
   "source": [
    "from collections import Counter\n",
    "from card_wars.deck import DeckSerializer\n",
    "from card_wars.import_cards import find_card\n",
    "\n",
    "d = DeckSerializer()\n",
    "\n",
    "all_strings = ''.join(deck_uid_win_rate_5)\n",
    "char_count = Counter(all_strings)\n",
    "most_common_chars = char_count.most_common(3)\n",
    "\n",
    "for char, count in most_common_chars:\n",
    "    percentage = (count / len(all_strings)) * 100\n",
    "    card_id = (d.deserialize(short_string=char))\n",
    "    card = find_card(card_id[0])\n",
    "\n",
    "    print(f\"{card}\")\n",
    "    print(f\"On average in {percentage:.2f}% of top decks.\\n\")"
   ]
  },
  {
   "cell_type": "markdown",
   "metadata": {},
   "source": [
    "Yeah, these are all kinda OP and synergize really well. **In this simulation there is no cap on card copies in a deck.**\n",
    "\n",
    "Well, now we know the simulation *probably* isn't biased. Let's test it on something else before we start mutating generations.\n",
    "\n",
    "---\n",
    "\n",
    "## OG Random Goblin Deck vs Randomized Decks"
   ]
  },
  {
   "cell_type": "code",
   "execution_count": 6,
   "metadata": {},
   "outputs": [
    {
     "name": "stdout",
     "output_type": "stream",
     "text": [
      "(420, 3)\n"
     ]
    },
    {
     "data": {
      "text/html": [
       "<div>\n",
       "<style scoped>\n",
       "    .dataframe tbody tr th:only-of-type {\n",
       "        vertical-align: middle;\n",
       "    }\n",
       "\n",
       "    .dataframe tbody tr th {\n",
       "        vertical-align: top;\n",
       "    }\n",
       "\n",
       "    .dataframe thead th {\n",
       "        text-align: right;\n",
       "    }\n",
       "</style>\n",
       "<table border=\"1\" class=\"dataframe\">\n",
       "  <thead>\n",
       "    <tr style=\"text-align: right;\">\n",
       "      <th></th>\n",
       "      <th>generation</th>\n",
       "      <th>deck_uid</th>\n",
       "      <th>win_rate</th>\n",
       "    </tr>\n",
       "  </thead>\n",
       "  <tbody>\n",
       "    <tr>\n",
       "      <th>0</th>\n",
       "      <td>0</td>\n",
       "      <td>cbtbndrqotmrcpsimghsauuktjrqmo</td>\n",
       "      <td>1</td>\n",
       "    </tr>\n",
       "    <tr>\n",
       "      <th>1</th>\n",
       "      <td>0</td>\n",
       "      <td>fdkhtbmgjeannfqubmhareujijifmi</td>\n",
       "      <td>3</td>\n",
       "    </tr>\n",
       "    <tr>\n",
       "      <th>2</th>\n",
       "      <td>0</td>\n",
       "      <td>kminhsqbhohqhetngmuknitcdessdd</td>\n",
       "      <td>2</td>\n",
       "    </tr>\n",
       "    <tr>\n",
       "      <th>3</th>\n",
       "      <td>0</td>\n",
       "      <td>jeaomhgrojbdggsggnjmidkprqgrkc</td>\n",
       "      <td>1</td>\n",
       "    </tr>\n",
       "    <tr>\n",
       "      <th>4</th>\n",
       "      <td>0</td>\n",
       "      <td>udctfpehlbbpthpkuooppncubokhku</td>\n",
       "      <td>1</td>\n",
       "    </tr>\n",
       "  </tbody>\n",
       "</table>\n",
       "</div>"
      ],
      "text/plain": [
       "   generation                        deck_uid  win_rate\n",
       "0           0  cbtbndrqotmrcpsimghsauuktjrqmo         1\n",
       "1           0  fdkhtbmgjeannfqubmhareujijifmi         3\n",
       "2           0  kminhsqbhohqhetngmuknitcdessdd         2\n",
       "3           0  jeaomhgrojbdggsggnjmidkprqgrkc         1\n",
       "4           0  udctfpehlbbpthpkuooppncubokhku         1"
      ]
     },
     "execution_count": 6,
     "metadata": {},
     "output_type": "execute_result"
    }
   ],
   "source": [
    "import os\n",
    "import pandas as pd\n",
    "df = pd.read_csv('data/results/goblin_vs_random.csv')\n",
    "print(df.shape)\n",
    "df.head()"
   ]
  },
  {
   "cell_type": "code",
   "execution_count": 7,
   "metadata": {},
   "outputs": [
    {
     "data": {
      "text/plain": [
       "1.588095238095238"
      ]
     },
     "execution_count": 7,
     "metadata": {},
     "output_type": "execute_result"
    }
   ],
   "source": [
    "df[\"win_rate\"].mean() # This should be much lower"
   ]
  },
  {
   "cell_type": "code",
   "execution_count": 8,
   "metadata": {},
   "outputs": [
    {
     "data": {
      "image/png": "[encoded data removed]",
      "text/plain": [
       "<Figure size 1500x500 with 1 Axes>"
      ]
     },
     "metadata": {},
     "output_type": "display_data"
    }
   ],
   "source": [
    "df = df.sort_values(by=\"win_rate\")\n",
    "grouped_df = df.groupby('win_rate').size().reset_index(name='count')\n",
    "\n",
    "plt.figure(figsize=(15, 5))\n",
    "bars = plt.bar(grouped_df['win_rate'], grouped_df['count'])\n",
    "\n",
    "for bar, count in zip(bars, grouped_df['count']):\n",
    "    plt.text(bar.get_x() + bar.get_width() / 2, bar.get_height(), count, ha='center', va='bottom')\n",
    "\n",
    "plt.title('Wins for each unique randomized deck')\n",
    "plt.xlabel('Win Rate (Out of 10 games / deck_string)')\n",
    "plt.ylabel('Count')\n",
    "plt.show()"
   ]
  },
  {
   "cell_type": "markdown",
   "metadata": {},
   "source": [
    "## Worst performing cards in Randomized Decks"
   ]
  },
  {
   "cell_type": "code",
   "execution_count": 9,
   "metadata": {},
   "outputs": [
    {
     "name": "stdout",
     "output_type": "stream",
     "text": [
      "Gramr in 6.67% of bottom decks.\n",
      "Weapon(card_id='w000001', name='Gramr', description='The legendary sword forged by Odin and gifted to Sigmund, later used by Sigurd to kill the dragon Fafnir.', card_text='Does twice the damage to Dragns', mana_cost=4, attack=4, durability=2, ability=None)\n",
      "\n",
      "Fire Blast in 6.03% of bottom decks.\n",
      "Spell(card_id='sfir000', name='Fire Blast', description='A furious fireball.', card_text='', mana_cost=2, spell_type='Fire', target=0, damage=6)\n",
      "\n",
      "War Axe in 5.72% of bottom decks.\n",
      "Weapon(card_id='w000000', name='War Axe', description='Sturdy and reliable.', card_text='', mana_cost=2, attack=3, durability=2, ability=None)\n",
      "\n",
      "Frost Nova in 5.25% of bottom decks.\n",
      "Spell(card_id='sfro000', name='Frost Nova', description='AoE.', card_text='', mana_cost=4, spell_type='Frost', target=1, damage=2)\n",
      "\n",
      "Dragonite in 5.19% of bottom decks.\n",
      "Dragonite [7/7] Mana: 8\n",
      "Battlecry: Deal 2 damage to all enemy minion. Divine Shield.\n",
      "\n",
      "Praetorian Guard in 5.15% of bottom decks.\n",
      "Praetorian Guard [1/5] Mana: 2\n",
      "Taunt\n",
      "\n",
      "Goblin Juggler in 5.15% of bottom decks.\n",
      "Goblin Juggler [3/2] Mana: 2\n",
      "Battlecry: Deal 2 damage. Deathrattle: Deal 1 damage to three random characters.\n",
      "\n"
     ]
    }
   ],
   "source": [
    "worst = df[df['win_rate'] == 0]['deck_uid'].tolist() # Data from all decks with 0/10 wins.\n",
    "\n",
    "d = DeckSerializer()\n",
    "\n",
    "all_strings = ''.join(worst)\n",
    "char_count = Counter(all_strings)\n",
    "most_common_chars = char_count.most_common(7)\n",
    "\n",
    "for char, count in most_common_chars:\n",
    "    percentage = (count / len(all_strings)) * 100\n",
    "    card_id = (d.deserialize(short_string=char))\n",
    "    card = find_card(card_id[0])\n",
    "\n",
    "    print(f\"{card.name} in {percentage:.2f}% of bottom decks.\")\n",
    "    print(f\"{card}\\n\")"
   ]
  },
  {
   "cell_type": "markdown",
   "metadata": {},
   "source": [
    "This makes sense because the simulation and its programmed agents have lots of TODOs\n",
    "\n",
    "- Gramr and War Axe - Agents will just equip them, never attack.\n",
    "\n",
    "- Fire Blast is running through Target Assist function, which just randomly selects a taget. Meaning in some simulations, the agent is as likely to Fire Blast its own face as an enemy minion.\n",
    "\n",
    "- Frost Nova is an AoE attack that theoretically should be good. However the logic for *when* to cast it has not yet been implemented.\n",
    "\n",
    "- Dragonite is probably just too expensive to play most of the time. Although drawing it late game and playing it at the right time can be a game changer.\n",
    "\n",
    "- Praetorian Guard: Probably not just worth it, given it's low attack. Taunt *might* be useful, given better implemented agent logic.\n",
    "\n",
    " Goblin Juggler: Just too random. Same thing with Target Assist.\n",
    "\n",
    " ---"
   ]
  },
  {
   "cell_type": "markdown",
   "metadata": {},
   "source": [
    "Let's look at the deck that actually got 7 wins."
   ]
  },
  {
   "cell_type": "code",
   "execution_count": 10,
   "metadata": {},
   "outputs": [
    {
     "data": {
      "text/plain": [
       "['bcflgnsonktlcaeinkthbmtnaidmkp']"
      ]
     },
     "execution_count": 10,
     "metadata": {},
     "output_type": "execute_result"
    }
   ],
   "source": [
    "best_deck= df[df['win_rate'] >= 7]['deck_uid'].tolist()\n",
    "\n",
    "best_deck"
   ]
  },
  {
   "cell_type": "code",
   "execution_count": 11,
   "metadata": {},
   "outputs": [
    {
     "name": "stdout",
     "output_type": "stream",
     "text": [
      "Default Deck - [30/30] cards:\n",
      "\n",
      "  1   mdra000   Dragonite\n",
      "  1   mdra001   Hatchling\n",
      "  1   mgno002   Gnomish Support Agent\n",
      "  1   mgob003   Prince Gobb\n",
      "  1   mgno003   Gnome Rider\n",
      "  1   mgob005   Goblin Necromancer\n",
      "  1   snat000   Wild Growth\n",
      "  1   mgob006   Goblin Wingman\n",
      "  2   mgob005   Goblin Necromancer\n",
      "  1   mgob002   Goblin Juggler\n",
      "  1   w000000   War Axe\n",
      "  2   mgob003   Prince Gobb\n",
      "  2   mdra001   Hatchling\n",
      "  1   mbea000   Lil Teddy\n",
      "  1   mgno001   Grandma Gnome\n",
      "  1   mgob000   Goblin\n",
      "  3   mgob005   Goblin Necromancer\n",
      "  2   mgob002   Goblin Juggler\n",
      "  2   w000000   War Axe\n",
      "  1   mgno004   Grand Gnome\n",
      "  2   mdra000   Dragonite\n",
      "  1   mgob004   Goblin Gambler\n",
      "  3   w000000   War Axe\n",
      "  4   mgob005   Goblin Necromancer\n",
      "  2   mbea000   Lil Teddy\n",
      "  2   mgob000   Goblin\n",
      "  1   mgno000   Gnome\n",
      "  2   mgob004   Goblin Gambler\n",
      "  3   mgob002   Goblin Juggler\n",
      "  1   mneu000   Praetorian Guard\n",
      "\n"
     ]
    }
   ],
   "source": [
    "from card_wars.deck import get_custom_deck\n",
    "top_deck = get_custom_deck(d.deserialize(best_deck[0]))\n",
    "\n",
    "print(top_deck)"
   ]
  },
  {
   "cell_type": "code",
   "execution_count": 12,
   "metadata": {},
   "outputs": [
    {
     "data": {
      "image/png": "[encoded data removed]",
      "text/plain": [
       "<Figure size 1500x500 with 1 Axes>"
      ]
     },
     "metadata": {},
     "output_type": "display_data"
    }
   ],
   "source": [
    "from card_wars.deck import Deck\n",
    "top_deck.get_distribution()\n",
    "\n",
    "count_dict = {}\n",
    "for card in top_deck.get_distribution():\n",
    "    count_dict[card] = count_dict.get(card, 0) + 1\n",
    "\n",
    "sorted_counts = sorted(count_dict.items())\n",
    "cards_sorted, counts_sorted = zip(*sorted_counts)\n",
    "\n",
    "plt.figure(figsize=(15, 5))\n",
    "bars = plt.bar(cards_sorted, counts_sorted)\n",
    "\n",
    "for bar, count in zip(bars, counts_sorted):\n",
    "    plt.text(bar.get_x() + bar.get_width() / 2, bar.get_height(), count, ha='center', va='bottom')\n",
    "\n",
    "plt.title('Cards mana distribution in top deck')\n",
    "plt.xlabel('Mana Cost')\n",
    "plt.ylabel('Number of cards')\n",
    "plt.show()\n"
   ]
  },
  {
   "cell_type": "markdown",
   "metadata": {},
   "source": [
    "Even though there are 3 War Axes which are just a waste of mana, this deck still performed the best. Lots of low cost cards, roughly even mix between Gnomes and Goblins."
   ]
  },
  {
   "cell_type": "markdown",
   "metadata": {},
   "source": [
    "### TODO from here\n",
    "\n",
    "- Continue TargetAssist: targeting cards must be handled by an improved target assistance.\n",
    "\n",
    "    - Implement:\n",
    "        - Option for player attack (Weapon) any minion or opponent player if Taunt not on opponent field.\n",
    "        - Option to not attack, even if Weapon equiped.\n",
    "<br><br>\n",
    "- Agent logic and choices: As of know, agent will always play cards on hand if they have the mana for it.\n",
    "\n",
    "    - Implement:\n",
    "        - Option to don't play a card.\n",
    "<br><br>\n",
    "- Implement rewards: As of now, the only stat we're tracking is win rate.\n",
    "\n",
    "    - Reward for:\n",
    "        - High minion health, high minion attack on agent field\n",
    "        - Low health on enemy agent\n",
    "        - High health on agent player\n",
    "<br><br>\n",
    "- Performance optimization: Not a big issue at the moment, but definitely some work could be done.\n",
    "<br><br>\n",
    "- Fun stuff (wheelie):\n",
    "\n",
    "    - **Temperature** as mechanic. Minions with no temperature resistance will take damage every turn if temperature is within range.\n",
    "        - Add some cool frost dragon that lowers the temperature for every turn it's on board.\n",
    "        - Add some cool fire demon that raises the temperature for every turn it's on board.\n"
   ]
  }
 ],
 "metadata": {
  "kernelspec": {
   "display_name": "venv",
   "language": "python",
   "name": "python3"
  },
  "language_info": {
   "codemirror_mode": {
    "name": "ipython",
    "version": 3
   },
   "file_extension": ".py",
   "mimetype": "text/x-python",
   "name": "python",
   "nbconvert_exporter": "python",
   "pygments_lexer": "ipython3",
   "version": "3.10.10"
  }
 },
 "nbformat": 4,
 "nbformat_minor": 2
}
